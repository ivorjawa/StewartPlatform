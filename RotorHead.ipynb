{
 "cells": [
  {
   "cell_type": "code",
   "execution_count": 1,
   "metadata": {},
   "outputs": [],
   "source": [
    "import matplotlib.pyplot as plt\n",
    "import math as m\n",
    "import numpy as np  # 1.7 or higher\n",
    "from ipywidgets import interactive\n",
    "from IPython.display import display\n",
    "\n",
    "\n",
    "\n",
    "import qgrid\n",
    "import pandas as pd\n",
    "\n",
    "import sympy as sym\n",
    "sym.init_printing(order=\"none\")\n",
    "from sympy.vector import CoordSys3D\n",
    "import sympy.vector as symvec\n",
    "\n",
    "\n",
    "np.set_printoptions(suppress=True, formatter={'float_kind':'{:14.4f}'.format})  \n",
    "%matplotlib inline\n",
    "\n"
   ]
  },
  {
   "cell_type": "code",
   "execution_count": 2,
   "metadata": {},
   "outputs": [
    {
     "data": {
      "image/png": "[encoded data removed]",
      "text/latex": [
       "$\\displaystyle x$"
      ],
      "text/plain": [
       "x"
      ]
     },
     "execution_count": 2,
     "metadata": {},
     "output_type": "execute_result"
    }
   ],
   "source": [
    "# good sympy tutorial \n",
    "# https://dynamics-and-control.readthedocs.io/en/latest/0_Getting_Started/Notebook%20introduction.html\n",
    "\n",
    "x = sym.Symbol('x')\n",
    "x"
   ]
  },
  {
   "cell_type": "code",
   "execution_count": 3,
   "metadata": {},
   "outputs": [
    {
     "data": {
      "image/png": "[encoded data removed]",
      "text/latex": [
       "$\\displaystyle γ$"
      ],
      "text/plain": [
       "γ"
      ]
     },
     "execution_count": 3,
     "metadata": {},
     "output_type": "execute_result"
    }
   ],
   "source": [
    "# type \\gamma<tab> to insert symbol\n",
    "g = sym.Symbol('γ')\n",
    "g"
   ]
  },
  {
   "cell_type": "code",
   "execution_count": 4,
   "metadata": {},
   "outputs": [
    {
     "data": {
      "image/png": "[encoded data removed]",
      "text/latex": [
       "$\\displaystyle \\mathbf{\\hat{i}_{N}}$"
      ],
      "text/plain": [
       "i_N"
      ]
     },
     "execution_count": 4,
     "metadata": {},
     "output_type": "execute_result"
    }
   ],
   "source": [
    "# https://docs.sympy.org/latest/modules/vector/\n",
    "N = CoordSys3D('N')\n",
    "N.i"
   ]
  },
  {
   "cell_type": "code",
   "execution_count": 5,
   "metadata": {},
   "outputs": [
    {
     "data": {
      "image/png": "[encoded data removed]",
      "text/latex": [
       "$\\displaystyle \\left(2\\right)\\mathbf{\\hat{i}_{N}} + \\mathbf{\\hat{j}_{N}}$"
      ],
      "text/plain": [
       "(2) i_N + j_N"
      ]
     },
     "execution_count": 5,
     "metadata": {},
     "output_type": "execute_result"
    }
   ],
   "source": [
    "v = 2*N.i + N.j\n",
    "v"
   ]
  },
  {
   "cell_type": "code",
   "execution_count": 6,
   "metadata": {},
   "outputs": [
    {
     "data": {
      "image/png": "[encoded data removed]",
      "text/latex": [
       "$\\displaystyle \\mathbf{\\hat{i}_{N}} \\times \\mathbf{\\hat{j}_{N}}$"
      ],
      "text/plain": [
       "(i_N)×(j_N)"
      ]
     },
     "execution_count": 6,
     "metadata": {},
     "output_type": "execute_result"
    }
   ],
   "source": [
    "k = symvec.Cross(N.i, N.j)\n",
    "k\n",
    "#help(symvec.cross)"
   ]
  },
  {
   "cell_type": "code",
   "execution_count": null,
   "metadata": {},
   "outputs": [],
   "source": []
  },
  {
   "cell_type": "code",
   "execution_count": null,
   "metadata": {},
   "outputs": [],
   "source": []
  },
  {
   "cell_type": "code",
   "execution_count": null,
   "metadata": {},
   "outputs": [],
   "source": []
  },
  {
   "cell_type": "code",
   "execution_count": null,
   "metadata": {},
   "outputs": [],
   "source": []
  },
  {
   "cell_type": "code",
   "execution_count": null,
   "metadata": {},
   "outputs": [],
   "source": []
  },
  {
   "cell_type": "code",
   "execution_count": null,
   "metadata": {},
   "outputs": [],
   "source": []
  },
  {
   "cell_type": "code",
   "execution_count": null,
   "metadata": {},
   "outputs": [],
   "source": []
  },
  {
   "cell_type": "code",
   "execution_count": null,
   "metadata": {},
   "outputs": [],
   "source": []
  },
  {
   "cell_type": "code",
   "execution_count": null,
   "metadata": {},
   "outputs": [],
   "source": [
    " "
   ]
  },
  {
   "cell_type": "code",
   "execution_count": 7,
   "metadata": {},
   "outputs": [
    {
     "data": {
      "image/png": "[encoded data removed]",
      "text/latex": [
       "$\\displaystyle \\left( P_{O}, \\  R_{coll}, \\  R_{sw}, \\  \\angle{A_p}, \\  \\angle{A_r}, \\  \\vec{C_f}, \\  \\vec{C_0}, \\  \\vec{C_p}, \\  \\vec{C_1}, \\  \\vec{C_s}, \\  \\vec{C_2}, \\  P_{a f}, \\  P_{a 0}, \\  P_{a p}, \\  P_{a 1}, \\  P_{a s}, \\  P_{a 2}, \\  P_{f f}, \\  P_{f 0}, \\  P_{f p}, \\  P_{f 1}, \\  P_{f s}, \\  P_{f 2}, \\  C_{m i n}, \\  C_{m a x}, \\  \\vec{V_{cN}}, \\  \\vec{V_{aN}}, \\  \\vec{C_N}, \\  \\vec{F_N}, \\  \\vec{V_{isectN}}, \\  \\hat{V_{isectN}}, \\  \\vec{V_{mast}}, \\  \\vec{V_{disk}}, \\  \\vec{V_p}, \\  \\vec{V_r}, \\  \\hat{V_r}, \\  \\hat{V_p}\\right)$"
      ],
      "text/plain": [
       "(P_O, R_{coll}, R_{sw}, \\angle{A_p}, \\angle{A_r}, \\vec{C_f}, \\vec{C_0}, \\vec{C\n",
       "_p}, \\vec{C_1}, \\vec{C_s}, \\vec{C_2}, P_a_f, Pₐ ₀, Pₐ ₚ, Pₐ ₁, Pₐ ₛ, Pₐ ₂, P_f\n",
       "_f, P_f_0, P_f_p, P_f_1, P_f_s, P_f_2, Cₘ ᵢ ₙ, Cₘ ₐ ₓ, \\vec{V_{cN}}, \\vec{V_{a\n",
       "N}}, \\vec{C_N}, \\vec{F_N}, \\vec{V_{isectN}}, \\hat{V_{isectN}}, \\vec{V_{mast}},\n",
       " \\vec{V_{disk}}, \\vec{V_p}, \\vec{V_r}, \\hat{V_r}, \\hat{V_p})"
      ]
     },
     "execution_count": 7,
     "metadata": {},
     "output_type": "execute_result"
    }
   ],
   "source": [
    "P0 = sym.Symbol(r'P_O');  #Origin of XYZ system\n",
    "Rcoll = sym.Symbol(r'R_{coll}') #height of collective above origin\n",
    "Rsw = sym.Symbol(r'R_{sw}') #radius of swashplate arms from P_coll\n",
    "\n",
    "Ap = sym.Symbol(r'\\angle{A_p}') #pitch angle\n",
    "Ar = sym.Symbol(r'\\angle{A_r}') #roll angle\n",
    "Acyl = sym.Symbol(r'\\angle{A_{cyl}}') # cylinder spacing\n",
    "\n",
    "Cf, C0 = sym.symbols(r'\\vec{C_f},\\vec{C_0}') \n",
    "Cp, C1 = sym.symbols(r'\\vec{C_p},\\vec{C_1}')\n",
    "Cs, C2 = sym.symbols(r'\\vec{C_s},\\vec{C_2}')\n",
    "\n",
    "Ff, F0 = sym.symbols(r'\\vec{F_f},\\vec{F_0}') \n",
    "Fp, F1 = sym.symbols(r'\\vec{F_p},\\vec{F_1}') \n",
    "Fs, F2 = sym.symbols(r'\\vec{F_s},\\vec{F_2}') \n",
    "\n",
    "Vmast = sym.symbols(r'\\vec{V_{mast}}')\n",
    "Vdisk = sym.symbols(r'\\vec{V_{disk}}')\n",
    "\n",
    "Visectn, Visectnhat = sym.symbols(r'\\vec{V_{isectN}},\\hat{V_{isectN}}')\n",
    "Vcn, Cn, Fn= sym.symbols(r'\\vec{V_{cN}},\\vec{C_N},\\vec{F_N}')\n",
    "Van = sym.symbols(r'\\vec{V_{aN}}')\n",
    "\n",
    "Paf, Pa0 = sym.symbols(r'P_a_f,P_a_0')\n",
    "Pap, Pa1 = sym.symbols(r'P_a_p,P_a_1')\n",
    "Pas, Pa2 = sym.symbols(r'P_a_s,P_a_2')\n",
    "\n",
    "Pff, Pf0 = sym.symbols(r'P_f_f,P_f_0')\n",
    "Pfp, Pf1 = sym.symbols(r'P_f_p,P_f_1')\n",
    "Pfs, Pf2 = sym.symbols(r'P_f_s,P_f_2')\n",
    "Cmin, Cmax = sym.symbols(\"C_m_i_n C_m_a_x\")\n",
    "Vp, Vr = sym.symbols(r'\\vec{V_p} \\vec{V_r}')\n",
    "Vrhat = sym.Symbol(r'\\hat{V_r}')\n",
    "Vphat = sym.Symbol(r'\\hat{V_p}')\n",
    "\"\"\"C_f, C_0: Front linear actuator, vector representing length\n",
    "C_p, C_1: Port linear actuator\n",
    "C_s, C_2: Starboard linear actuator\n",
    "P_a_f, P_a_0: End of front swashplate arm\n",
    "P_a_p, P_a_1: End of port swashplate arm\n",
    "P_a_s, P_a_2: End of starboard swashplate arm\n",
    "P_f_f, P_f_0: End of front swashplate foot\n",
    "P_f_p, P_f_1: End of port swashplate foot\n",
    "P_f_s, P_f_2: End of starboard swashplate foot\n",
    "C_min: cylinder minimum length\n",
    "C_max: cylinder maximum length\n",
    "Vp: Pitch vector from cyclic\n",
    "Vr: Roll vector from cyclic\"\"\"\n",
    "P0, Rcoll, Rsw, Ap, Ar, Cf, C0, Cp, C1, Cs, C2, Paf, Pa0, Pap, Pa1, Pas, Pa2, Pff, Pf0,\\\n",
    "Pfp, Pf1, Pfs, Pf2, Cmin, Cmax, Vcn, Van, Cn, Fn, Visectn, Visectnhat, Vmast, Vdisk,  Vp, Vr, Vrhat, Vphat"
   ]
  },
  {
   "cell_type": "code",
   "execution_count": 8,
   "metadata": {},
   "outputs": [
    {
     "data": {
      "image/png": "[encoded data removed]",
      "text/latex": [
       "$\\displaystyle \\left|{\\vec{V_r}}\\right|$"
      ],
      "text/plain": [
       "│\\vec{V_r}│"
      ]
     },
     "execution_count": 8,
     "metadata": {},
     "output_type": "execute_result"
    }
   ],
   "source": [
    "abs(abs(Vr))"
   ]
  },
  {
   "cell_type": "code",
   "execution_count": 9,
   "metadata": {},
   "outputs": [
    {
     "data": {
      "text/plain": [
       "'\\\\left|{\\\\vec{V_r}}\\\\right|'"
      ]
     },
     "execution_count": 9,
     "metadata": {},
     "output_type": "execute_result"
    }
   ],
   "source": [
    "sym.latex(abs(Vr))"
   ]
  },
  {
   "cell_type": "code",
   "execution_count": 10,
   "metadata": {},
   "outputs": [
    {
     "data": {
      "text/latex": [
       "$\\displaystyle \\vec{V_p} = \\left[\\begin{matrix}\\cos{\\left(\\angle{A_p} \\right)} & 0 & \\sin{\\left(\\angle{A_p} \\right)}\\end{matrix}\\right]$"
      ],
      "text/plain": [
       "\\vec{V_p} = [cos(\\angle{A_p})  0  sin(\\angle{A_p})]"
      ]
     },
     "metadata": {},
     "output_type": "display_data"
    },
    {
     "data": {
      "image/png": "[encoded data removed]",
      "text/latex": [
       "$\\displaystyle \\hat{V_p} = \\frac{\\vec{V_p}}{\\left|{\\vec{V_p}}\\right|}$"
      ],
      "text/plain": [
       "             \\vec{V_p} \n",
       "\\hat{V_p} = ───────────\n",
       "            │\\vec{V_p}│"
      ]
     },
     "metadata": {},
     "output_type": "display_data"
    },
    {
     "data": {
      "text/latex": [
       "$\\displaystyle \\vec{V_r} = \\left[\\begin{matrix}0 & \\cos{\\left(\\angle{A_r} \\right)} & \\sin{\\left(\\angle{A_r} \\right)}\\end{matrix}\\right]$"
      ],
      "text/plain": [
       "\\vec{V_r} = [0  cos(\\angle{A_r})  sin(\\angle{A_r})]"
      ]
     },
     "metadata": {},
     "output_type": "display_data"
    },
    {
     "data": {
      "image/png": "[encoded data removed]",
      "text/latex": [
       "$\\displaystyle \\hat{V_r} = \\frac{\\vec{V_r}}{\\left|{\\vec{V_r}}\\right|}$"
      ],
      "text/plain": [
       "             \\vec{V_r} \n",
       "\\hat{V_r} = ───────────\n",
       "            │\\vec{V_r}│"
      ]
     },
     "metadata": {},
     "output_type": "display_data"
    },
    {
     "data": {
      "text/latex": [
       "$\\displaystyle \\vec{F_f} = \\left[\\begin{matrix}R_{sw} & 0 & 0\\end{matrix}\\right]$"
      ],
      "text/plain": [
       "\\vec{F_f} = [R_{sw}  0  0]"
      ]
     },
     "metadata": {},
     "output_type": "display_data"
    },
    {
     "data": {
      "text/latex": [
       "$\\displaystyle \\vec{F_p} = \\left[\\begin{matrix}R_{sw} \\sin{\\left(\\angle{A_{cyl}} \\right)} & R_{sw} \\cos{\\left(\\angle{A_{cyl}} \\right)} & 0\\end{matrix}\\right]$"
      ],
      "text/plain": [
       "\\vec{F_p} = [R_{sw}⋅sin(\\angle{A_{cyl}})  R_{sw}⋅cos(\\angle{A_{cyl}})  0]"
      ]
     },
     "metadata": {},
     "output_type": "display_data"
    },
    {
     "data": {
      "text/latex": [
       "$\\displaystyle \\vec{F_s} = \\left[\\begin{matrix}R_{sw} \\sin{\\left(2 \\angle{A_{cyl}} \\right)} & R_{sw} \\cos{\\left(2 \\angle{A_{cyl}} \\right)} & 0\\end{matrix}\\right]$"
      ],
      "text/plain": [
       "\\vec{F_s} = [R_{sw}⋅sin(2⋅\\angle{A_{cyl}})  R_{sw}⋅cos(2⋅\\angle{A_{cyl}})  0]"
      ]
     },
     "metadata": {},
     "output_type": "display_data"
    },
    {
     "data": {
      "text/latex": [
       "$\\displaystyle \\vec{V_{mast}} = \\left[\\begin{matrix}0 & 0 & R_{coll}\\end{matrix}\\right]$"
      ],
      "text/plain": [
       "\\vec{V_{mast}} = [0  0  R_{coll}]"
      ]
     },
     "metadata": {},
     "output_type": "display_data"
    },
    {
     "data": {
      "image/png": "[encoded data removed]",
      "text/latex": [
       "$\\displaystyle \\vec{V_{disk}} = \\hat{V_p} \\times \\hat{V_r}$"
      ],
      "text/plain": [
       "\\vec{V_{disk}} = (\\hat{V_p})×(\\hat{V_r})"
      ]
     },
     "metadata": {},
     "output_type": "display_data"
    },
    {
     "data": {
      "image/png": "[encoded data removed]",
      "text/latex": [
       "$\\displaystyle \\vec{V_{cN}} = \\vec{F_N} \\times \\vec{V_{mast}}$"
      ],
      "text/plain": [
       "\\vec{V_{cN}} = (\\vec{F_N})×(\\vec{V_{mast}})"
      ]
     },
     "metadata": {},
     "output_type": "display_data"
    },
    {
     "data": {
      "image/png": "[encoded data removed]",
      "text/latex": [
       "$\\displaystyle \\vec{V_{isectN}} = - \\vec{V_{cN}} \\times \\vec{V_{disk}}$"
      ],
      "text/plain": [
       "\\vec{V_{isectN}} = -(\\vec{V_{cN}})×(\\vec{V_{disk}})"
      ]
     },
     "metadata": {},
     "output_type": "display_data"
    },
    {
     "data": {
      "image/png": "[encoded data removed]",
      "text/latex": [
       "$\\displaystyle \\hat{V_{isectN}} = \\frac{\\vec{V_{isectN}}}{\\left|{\\vec{V_{isectN}}}\\right|}$"
      ],
      "text/plain": [
       "                    \\vec{V_{isectN}} \n",
       "\\hat{V_{isectN}} = ──────────────────\n",
       "                   │\\vec{V_{isectN}}│"
      ]
     },
     "metadata": {},
     "output_type": "display_data"
    },
    {
     "data": {
      "image/png": "[encoded data removed]",
      "text/latex": [
       "$\\displaystyle \\vec{V_{aN}} = \\vec{V_{mast}} + R_{sw} \\vec{V_{isectN}}$"
      ],
      "text/plain": [
       "\\vec{V_{aN}} = \\vec{V_{mast}} + R_{sw}⋅\\vec{V_{isectN}}"
      ]
     },
     "metadata": {},
     "output_type": "display_data"
    },
    {
     "data": {
      "image/png": "[encoded data removed]",
      "text/latex": [
       "$\\displaystyle \\vec{C_N} = \\vec{V_{aN}} - \\vec{F_N}$"
      ],
      "text/plain": [
       "\\vec{C_N} = \\vec{V_{aN}} - \\vec{F_N}"
      ]
     },
     "metadata": {},
     "output_type": "display_data"
    }
   ],
   "source": [
    "e1 = sym.Eq(Vp, sym.Matrix([sym.cos(Ap), 0, sym.sin(Ap)]).T, evaluate=False)\n",
    "e2 = sym.Eq(Vphat, Vp/abs(Vp), evaluate=False)\n",
    "\n",
    "e3 = sym.Eq(Vr, sym.Matrix([0, sym.cos(Ar), sym.sin(Ar)]).T, evaluate=False)\n",
    "e4 = sym.Eq(Vrhat, Vr/abs(Vr), evaluate=False)\n",
    "\n",
    "e5 = sym.Eq(Ff, sym.Matrix([Rsw, 0, 0]).T, evaluate=False)\n",
    "e6 = sym.Eq(Fp, sym.Matrix([Rsw*sym.sin(Acyl), Rsw*sym.cos(Acyl), 0]).T, evaluate=False)\n",
    "e7 = sym.Eq(Fs, sym.Matrix([Rsw*sym.sin(2*Acyl), Rsw*sym.cos(2*Acyl), 0]).T, evaluate=False)\n",
    "\n",
    "e8 = sym.Eq(Vmast, sym.Matrix([0, 0, Rcoll]).T, evaluate=False)\n",
    "\n",
    "e9 = sym.Eq(Vdisk, symvec.Cross(Vphat, Vrhat), evaluate=False)\n",
    "\n",
    "# for each cylinder, Vcn normal of plane formed by foot and mast\n",
    "e10 = sym.Eq(Vcn, symvec.Cross(Fn, Vmast), evaluate=False)\n",
    "e11 = sym.Eq(Visectn, symvec.Cross(Vdisk, Vcn), evaluate=False)\n",
    "e12 = sym.Eq(Visectnhat, Visectn/abs(Visectn), evaluate=False)\n",
    "e13 = sym.Eq(Van, Rsw*Visectn+Vmast, evaluate=False)\n",
    "e14 = sym.Eq(Cn, Van - Fn, evaluate=False)\n",
    "\n",
    "for e in [e1, e2, e3, e4, e5, e6, e7, e8, e9, e10, e11, e12, e13, e14]:\n",
    "    display(e)\n"
   ]
  },
  {
   "cell_type": "code",
   "execution_count": null,
   "metadata": {},
   "outputs": [],
   "source": [
    "\n"
   ]
  },
  {
   "cell_type": "code",
   "execution_count": null,
   "metadata": {},
   "outputs": [],
   "source": []
  }
 ],
 "metadata": {
  "kernelspec": {
   "display_name": "Python 3",
   "language": "python",
   "name": "python3"
  },
  "language_info": {
   "codemirror_mode": {
    "name": "ipython",
    "version": 3
   },
   "file_extension": ".py",
   "mimetype": "text/x-python",
   "name": "python",
   "nbconvert_exporter": "python",
   "pygments_lexer": "ipython3",
   "version": "3.8.7"
  }
 },
 "nbformat": 4,
 "nbformat_minor": 4
}
