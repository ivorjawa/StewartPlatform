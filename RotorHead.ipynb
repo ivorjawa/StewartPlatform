{
 "cells": [
  {
   "cell_type": "code",
   "execution_count": 1,
   "metadata": {},
   "outputs": [],
   "source": [
    "import matplotlib.pyplot as plt\n",
    "import math as m\n",
    "import numpy as np  # 1.7 or higher\n",
    "from ipywidgets import interactive\n",
    "from IPython.display import display\n",
    "\n",
    "\n",
    "\n",
    "import qgrid\n",
    "import pandas as pd\n",
    "\n",
    "import sympy as sym\n",
    "sym.init_printing()\n",
    "from sympy.vector import CoordSys3D\n",
    "import sympy.vector as symvec\n",
    "\n",
    "\n",
    "np.set_printoptions(suppress=True, formatter={'float_kind':'{:14.4f}'.format})  \n",
    "%matplotlib inline\n",
    "\n"
   ]
  },
  {
   "cell_type": "code",
   "execution_count": 2,
   "metadata": {},
   "outputs": [
    {
     "data": {
      "image/png": "[encoded data removed]",
      "text/latex": [
       "$\\displaystyle x$"
      ],
      "text/plain": [
       "x"
      ]
     },
     "execution_count": 2,
     "metadata": {},
     "output_type": "execute_result"
    }
   ],
   "source": [
    "# good sympy tutorial \n",
    "# https://dynamics-and-control.readthedocs.io/en/latest/0_Getting_Started/Notebook%20introduction.html\n",
    "\n",
    "x = sym.Symbol('x')\n",
    "x"
   ]
  },
  {
   "cell_type": "code",
   "execution_count": 3,
   "metadata": {},
   "outputs": [
    {
     "data": {
      "image/png": "[encoded data removed]",
      "text/latex": [
       "$\\displaystyle γ$"
      ],
      "text/plain": [
       "γ"
      ]
     },
     "execution_count": 3,
     "metadata": {},
     "output_type": "execute_result"
    }
   ],
   "source": [
    "# type \\gamma<tab> to insert symbol\n",
    "g = sym.Symbol('γ')\n",
    "g"
   ]
  },
  {
   "cell_type": "code",
   "execution_count": 4,
   "metadata": {},
   "outputs": [
    {
     "data": {
      "image/png": "[encoded data removed]",
      "text/latex": [
       "$\\displaystyle \\mathbf{\\hat{i}_{N}}$"
      ],
      "text/plain": [
       "i_N"
      ]
     },
     "execution_count": 4,
     "metadata": {},
     "output_type": "execute_result"
    }
   ],
   "source": [
    "# https://docs.sympy.org/latest/modules/vector/\n",
    "N = CoordSys3D('N')\n",
    "N.i"
   ]
  },
  {
   "cell_type": "code",
   "execution_count": 5,
   "metadata": {},
   "outputs": [
    {
     "data": {
      "image/png": "[encoded data removed]",
      "text/latex": [
       "$\\displaystyle \\left(2\\right)\\mathbf{\\hat{i}_{N}} + \\mathbf{\\hat{j}_{N}}$"
      ],
      "text/plain": [
       "(2) i_N + j_N"
      ]
     },
     "execution_count": 5,
     "metadata": {},
     "output_type": "execute_result"
    }
   ],
   "source": [
    "v = 2*N.i + N.j\n",
    "v"
   ]
  },
  {
   "cell_type": "code",
   "execution_count": 6,
   "metadata": {},
   "outputs": [
    {
     "data": {
      "image/png": "[encoded data removed]",
      "text/latex": [
       "$\\displaystyle \\mathbf{\\hat{i}_{N}} \\times \\mathbf{\\hat{j}_{N}}$"
      ],
      "text/plain": [
       "(i_N)×(j_N)"
      ]
     },
     "execution_count": 6,
     "metadata": {},
     "output_type": "execute_result"
    }
   ],
   "source": [
    "k = symvec.Cross(N.i, N.j)\n",
    "k\n",
    "#help(symvec.cross)"
   ]
  },
  {
   "cell_type": "code",
   "execution_count": null,
   "metadata": {},
   "outputs": [],
   "source": []
  },
  {
   "cell_type": "code",
   "execution_count": 7,
   "metadata": {},
   "outputs": [
    {
     "data": {
      "image/png": "[encoded data removed]",
      "text/latex": [
       "$\\displaystyle M_{a s t}$"
      ],
      "text/plain": [
       "Mₐ ₛ ₜ"
      ]
     },
     "execution_count": 7,
     "metadata": {},
     "output_type": "execute_result"
    }
   ],
   "source": [
    "Mast = sym.Symbol(\"M_a_s_t\")\n",
    "Mast"
   ]
  },
  {
   "cell_type": "code",
   "execution_count": 8,
   "metadata": {},
   "outputs": [
    {
     "data": {
      "image/png": "[encoded data removed]",
      "text/latex": [
       "$\\displaystyle M_{a s t} \\times M_{a s t}$"
      ],
      "text/plain": [
       "(Mₐ ₛ ₜ)×(Mₐ ₛ ₜ)"
      ]
     },
     "execution_count": 8,
     "metadata": {},
     "output_type": "execute_result"
    }
   ],
   "source": [
    "symvec.Cross(Mast, Mast)"
   ]
  },
  {
   "cell_type": "code",
   "execution_count": 9,
   "metadata": {},
   "outputs": [
    {
     "data": {
      "image/png": "[encoded data removed]",
      "text/latex": [
       "$\\displaystyle \\vec{MN_as}$"
      ],
      "text/plain": [
       "\\vec{MN_as}"
      ]
     },
     "execution_count": 9,
     "metadata": {},
     "output_type": "execute_result"
    }
   ],
   "source": [
    "sym.Symbol(r'\\vec{MN_as}')"
   ]
  },
  {
   "cell_type": "code",
   "execution_count": 10,
   "metadata": {},
   "outputs": [
    {
     "data": {
      "image/png": "[encoded data removed]",
      "text/latex": [
       "$\\displaystyle \\vec{X_Θ}$"
      ],
      "text/plain": [
       "\\vec{X_Θ}"
      ]
     },
     "execution_count": 10,
     "metadata": {},
     "output_type": "execute_result"
    }
   ],
   "source": [
    "sym.Symbol(r'\\vec{X_Θ}')"
   ]
  },
  {
   "cell_type": "code",
   "execution_count": 11,
   "metadata": {},
   "outputs": [
    {
     "data": {
      "image/png": "[encoded data removed]",
      "text/latex": [
       "$\\displaystyle \\left( \\vec{O} \\cdot \\vec{X_R} = 2, \\  M_{a s t}\\right)$"
      ],
      "text/plain": [
       "((\\vec{O})⋅(\\vec{X_R}) = 2, Mₐ ₛ ₜ)"
      ]
     },
     "execution_count": 11,
     "metadata": {},
     "output_type": "execute_result"
    }
   ],
   "source": [
    "Xr  = sym.Symbol(r'\\vec{X_R}')\n",
    "O = sym.Symbol(r'\\vec{O}')\n",
    "Yr = sym.Symbol(r'\\vec{Y_R}')\n",
    "k = symvec.Dot(Xr, O)\n",
    "(sym.Eq(k, 2),Mast)"
   ]
  },
  {
   "cell_type": "code",
   "execution_count": 12,
   "metadata": {},
   "outputs": [
    {
     "data": {
      "image/png": "[encoded data removed]",
      "text/latex": [
       "$\\displaystyle \\vec{O} \\cdot \\vec{X_R} = 2$"
      ],
      "text/plain": [
       "(\\vec{O})⋅(\\vec{X_R}) = 2"
      ]
     },
     "metadata": {},
     "output_type": "display_data"
    },
    {
     "data": {
      "image/png": "[encoded data removed]",
      "text/latex": [
       "$\\displaystyle M_{a s t}$"
      ],
      "text/plain": [
       "Mₐ ₛ ₜ"
      ]
     },
     "metadata": {},
     "output_type": "display_data"
    }
   ],
   "source": [
    "display(sym.Eq(k, 2))\n",
    "display(Mast)"
   ]
  },
  {
   "cell_type": "code",
   "execution_count": 13,
   "metadata": {},
   "outputs": [
    {
     "data": {
      "image/png": "[encoded data removed]",
      "text/latex": [
       "$\\displaystyle \\angle{X_R̊}X_z$"
      ],
      "text/plain": [
       "\\angle{X_R̊}X_z"
      ]
     },
     "execution_count": 13,
     "metadata": {},
     "output_type": "execute_result"
    }
   ],
   "source": [
    "sym.Symbol(r'\\angle{X_R̊}X_z')"
   ]
  },
  {
   "cell_type": "code",
   "execution_count": 14,
   "metadata": {},
   "outputs": [
    {
     "data": {
      "image/png": "[encoded data removed]",
      "text/latex": [
       "$\\displaystyle \\left( P_{O}, \\  P_{c o l l}, \\  R_{s w}, \\  \\vec{C_f}, \\  \\vec{C_0}, \\  \\vec{C_p}, \\  \\vec{C_1}, \\  \\vec{C_s}, \\  \\vec{C_2}, \\  P_{a f}, \\  P_{a 0}, \\  P_{a p}, \\  P_{a 1}, \\  P_{a s}, \\  P_{a 2}, \\  P_{f f}, \\  P_{f 0}, \\  P_{f p}, \\  P_{f 1}, \\  P_{f s}, \\  P_{f 2}, \\  C_{m i n}, \\  C_{m a x}, \\  \\vec{V_p}, \\  \\vec{V_r}\\right)$"
      ],
      "text/plain": [
       "(P_O, P_c_o_l_l, R_s_w, \\vec{C_f}, \\vec{C_0}, \\vec{C_p}, \\vec{C_1}, \\vec{C_s},\n",
       " \\vec{C_2}, P_a_f, Pₐ ₀, Pₐ ₚ, Pₐ ₁, Pₐ ₛ, Pₐ ₂, P_f_f, P_f_0, P_f_p, P_f_1, P\n",
       "_f_s, P_f_2, Cₘ ᵢ ₙ, Cₘ ₐ ₓ, \\vec{V_p}, \\vec{V_r})"
      ]
     },
     "execution_count": 14,
     "metadata": {},
     "output_type": "execute_result"
    }
   ],
   "source": [
    "P0 = sym.Symbol(r'P_O');  #Origin of XYZ system\n",
    "Rcoll = sym.Symbol(r'P_c_o_l_l') #height of collective above origin\n",
    "Rsw = sym.Symbol(r'R_s_w') #radius of swashplate arms from P_coll\n",
    "\n",
    "Cf, C0 = sym.symbols(r'\\vec{C_f},\\vec{C_0}') \n",
    "Cp, C1 = sym.symbols(r'\\vec{C_p},\\vec{C_1}')\n",
    "Cs, C2 = sym.symbols(r'\\vec{C_s},\\vec{C_2}')\n",
    "\n",
    "Paf, Pa0 = sym.symbols(r'P_a_f,P_a_0')\n",
    "Pap, Pa1 = sym.symbols(r'P_a_p,P_a_1')\n",
    "Pas, Pa2 = sym.symbols(r'P_a_s,P_a_2')\n",
    "\n",
    "Pff, Pf0 = sym.symbols(r'P_f_f,P_f_0')\n",
    "Pfp, Pf1 = sym.symbols(r'P_f_p,P_f_1')\n",
    "Pfs, Pf2 = sym.symbols(r'P_f_s,P_f_2')\n",
    "Cmin, Cmax = sym.symbols(\"C_m_i_n C_m_a_x\")\n",
    "Vp, Vr = sym.symbols(r'\\vec{V_p} \\vec{V_r}')\n",
    "\n",
    "\"\"\"C_f, C_0: Front linear actuator, vector representing length\n",
    "C_p, C_1: Port linear actuator\n",
    "C_s, C_2: Starboard linear actuator\n",
    "P_a_f, P_a_0: End of front swashplate arm\n",
    "P_a_p, P_a_1: End of port swashplate arm\n",
    "P_a_s, P_a_2: End of starboard swashplate arm\n",
    "P_f_f, P_f_0: End of front swashplate foot\n",
    "P_f_p, P_f_1: End of port swashplate foot\n",
    "P_f_s, P_f_2: End of starboard swashplate foot\n",
    "C_min: cylinder minimum length\n",
    "C_max: cylinder maximum length\n",
    "Vp: Pitch vector from cyclic\n",
    "Vr: Roll vector from cyclic\"\"\"\n",
    "P0, Rcoll, Rsw, Cf, C0, Cp, C1, Cs, C2, Paf, Pa0, Pap, Pa1, Pas, Pa2, Pff, Pf0,\\\n",
    "Pfp, Pf1, Pfs, Pf2, Cmin, Cmax, Vp, Vr"
   ]
  },
  {
   "cell_type": "code",
   "execution_count": null,
   "metadata": {},
   "outputs": [],
   "source": []
  }
 ],
 "metadata": {
  "kernelspec": {
   "display_name": "Python 3",
   "language": "python",
   "name": "python3"
  },
  "language_info": {
   "codemirror_mode": {
    "name": "ipython",
    "version": 3
   },
   "file_extension": ".py",
   "mimetype": "text/x-python",
   "name": "python",
   "nbconvert_exporter": "python",
   "pygments_lexer": "ipython3",
   "version": "3.8.7"
  }
 },
 "nbformat": 4,
 "nbformat_minor": 4
}
