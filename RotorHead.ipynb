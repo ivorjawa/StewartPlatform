{
 "cells": [
  {
   "cell_type": "code",
   "execution_count": 1,
   "metadata": {},
   "outputs": [],
   "source": [
    "import matplotlib.pyplot as plt\n",
    "import math as m\n",
    "import numpy as np  # 1.7 or higher\n",
    "from ipywidgets import interactive\n",
    "from IPython.display import display\n",
    "\n",
    "\n",
    "\n",
    "import qgrid\n",
    "import pandas as pd\n",
    "\n",
    "import sympy as sym\n",
    "sym.init_printing(order=\"none\")\n",
    "from sympy.vector import CoordSys3D\n",
    "import sympy.vector as symvec\n",
    "\n",
    "\n",
    "np.set_printoptions(suppress=True, formatter={'float_kind':'{:14.4f}'.format})  \n",
    "%matplotlib inline\n",
    "\n",
    "#  jupyter nbconvert --no-input --to pdf RotorHead.ipynb "
   ]
  },
  {
   "cell_type": "code",
   "execution_count": 2,
   "metadata": {},
   "outputs": [],
   "source": [
    " def Eq(expr1, expr2):\n",
    "    return sym.Eq(expr1, expr2, evaluate=False)"
   ]
  },
  {
   "cell_type": "code",
   "execution_count": 13,
   "metadata": {},
   "outputs": [
    {
     "data": {
      "image/png": "[encoded data removed]",
      "text/latex": [
       "$\\displaystyle \\left( P_{O}, \\  R_{coll}, \\  R_{sw}, \\  \\angle{A_p}, \\  \\angle{A_r}, \\  \\vec{C_f}, \\  \\vec{C_0}, \\  \\vec{C_p}, \\  \\vec{C_1}, \\  \\vec{C_s}, \\  \\vec{C_2}\\right)$"
      ],
      "text/plain": [
       "(P_O, R_{coll}, R_{sw}, \\angle{A_p}, \\angle{A_r}, \\vec{C_f}, \\vec{C_0}, \\vec{C\n",
       "_p}, \\vec{C_1}, \\vec{C_s}, \\vec{C_2})"
      ]
     },
     "metadata": {},
     "output_type": "display_data"
    },
    {
     "data": {
      "image/png": "[encoded data removed]",
      "text/latex": [
       "$\\displaystyle \\left( P_{a f}, \\  P_{a 0}, \\  P_{a p}, \\  P_{a 1}, \\  P_{a s}, \\  P_{a 2}, \\  P_{f f}, \\  P_{f 0}, \\  P_{fn}\\right)$"
      ],
      "text/plain": [
       "(P_a_f, Pₐ ₀, Pₐ ₚ, Pₐ ₁, Pₐ ₛ, Pₐ ₂, P_f_f, P_f_0, P_{fn})"
      ]
     },
     "metadata": {},
     "output_type": "display_data"
    },
    {
     "data": {
      "image/png": "[encoded data removed]",
      "text/latex": [
       "$\\displaystyle \\left( P_{f p}, \\  P_{f 1}, \\  P_{f s}, \\  P_{f 2}, \\  C_{m i n}, \\  C_{m a x}, \\  \\vec{V_{cN}}, \\  \\vec{V_{aN}}, \\  \\vec{C_N}, \\  \\vec{F_N}\\right)$"
      ],
      "text/plain": [
       "(P_f_p, P_f_1, P_f_s, P_f_2, Cₘ ᵢ ₙ, Cₘ ₐ ₓ, \\vec{V_{cN}}, \\vec{V_{aN}}, \\vec{\n",
       "C_N}, \\vec{F_N})"
      ]
     },
     "metadata": {},
     "output_type": "display_data"
    },
    {
     "data": {
      "image/png": "[encoded data removed]",
      "text/latex": [
       "$\\displaystyle \\left( \\vec{V_{isectN}}, \\  \\hat{V_{isectN}}, \\  \\vec{V_{mast}}, \\  \\vec{V_{disk}}, \\  \\vec{V_p}, \\  \\vec{V_r}, \\  \\hat{V_r}, \\  \\hat{V_p}\\right)$"
      ],
      "text/plain": [
       "(\\vec{V_{isectN}}, \\hat{V_{isectN}}, \\vec{V_{mast}}, \\vec{V_{disk}}, \\vec{V_p}\n",
       ", \\vec{V_r}, \\hat{V_r}, \\hat{V_p})"
      ]
     },
     "metadata": {},
     "output_type": "display_data"
    }
   ],
   "source": [
    "P0 = sym.Symbol(r'P_O');  #Origin of XYZ system\n",
    "Rcoll = sym.Symbol(r'R_{coll}') #height of collective above origin\n",
    "Rsw = sym.Symbol(r'R_{sw}') #radius of swashplate arms from P_coll\n",
    "\n",
    "Ap = sym.Symbol(r'\\angle{A_p}') #pitch angle\n",
    "Ar = sym.Symbol(r'\\angle{A_r}') #roll angle\n",
    "Acyl = sym.Symbol(r'\\angle{A_{cyl}}') # cylinder spacing\n",
    "\n",
    "\n",
    "Cf, C0 = sym.symbols(r'\\vec{C_f},\\vec{C_0}') \n",
    "Cp, C1 = sym.symbols(r'\\vec{C_p},\\vec{C_1}')\n",
    "Cs, C2 = sym.symbols(r'\\vec{C_s},\\vec{C_2}')\n",
    "\n",
    "# Front linear actuator, vector representing length\n",
    "Ff, F0 = sym.symbols(r'\\vec{F_f},\\vec{F_0}') \n",
    "Fp, F1 = sym.symbols(r'\\vec{F_p},\\vec{F_1}') #Port linear actuator\n",
    "Fs, F2 = sym.symbols(r'\\vec{F_s},\\vec{F_2}') #Starboard linear actuator\n",
    "\n",
    "Vmast = sym.symbols(r'\\vec{V_{mast}}')\n",
    "Vdisk = sym.symbols(r'\\vec{V_{disk}}')\n",
    "\n",
    "Visectn, Visectnhat = sym.symbols(r'\\vec{V_{isectN}},\\hat{V_{isectN}}')\n",
    "Vcn, Cn, Fn= sym.symbols(r'\\vec{V_{cN}},\\vec{C_N},\\vec{F_N}')\n",
    "Van, Pfn = sym.symbols(r'\\vec{V_{aN}}, P_{fn}')\n",
    "\n",
    "Paf, Pa0 = sym.symbols(r'P_a_f,P_a_0') #End of front swashplate arm\n",
    "Pap, Pa1 = sym.symbols(r'P_a_p,P_a_1') #End of port swashplate arm\n",
    "Pas, Pa2 = sym.symbols(r'P_a_s,P_a_2') #End of starboard swashplate arm\n",
    "\n",
    "Pff, Pf0 = sym.symbols(r'P_f_f,P_f_0') #End of front swashplate foot\n",
    "Pfp, Pf1 = sym.symbols(r'P_f_p,P_f_1') #End of port swashplate foot\n",
    "Pfs, Pf2 = sym.symbols(r'P_f_s,P_f_2') #End of starboard swashplate foot\n",
    "\n",
    "# cylinder minimum length, cylinder maximum length\n",
    "Cmin, Cmax = sym.symbols(\"C_m_i_n C_m_a_x\")\n",
    "\n",
    "#Pitch vector from cyclic, Roll vector from cyclic\n",
    "Vp, Vr = sym.symbols(r'\\vec{V_p} \\vec{V_r}')\n",
    "Vrhat = sym.Symbol(r'\\hat{V_r}') #unit vector versons of above\n",
    "Vphat = sym.Symbol(r'\\hat{V_p}')\n",
    "\n",
    "display((P0, Rcoll, Rsw, Ap, Ar, Cf, C0, Cp, C1, Cs, C2))\n",
    "display((Paf, Pa0, Pap, Pa1, Pas, Pa2, Pff, Pf0, Pfn))\n",
    "display((Pfp, Pf1, Pfs, Pf2, Cmin, Cmax, Vcn, Van, Cn, Fn))\n",
    "display((Visectn, Visectnhat, Vmast, Vdisk,  Vp, Vr, Vrhat, Vphat))"
   ]
  },
  {
   "cell_type": "code",
   "execution_count": 15,
   "metadata": {
    "scrolled": false
   },
   "outputs": [
    {
     "data": {
      "text/latex": [
       "$\\displaystyle \\left( 1, \\  \\vec{V_p} = \\left[\\begin{matrix}\\cos{\\left(\\angle{A_p} \\right)} & 0 & \\sin{\\left(\\angle{A_p} \\right)}\\end{matrix}\\right]\\right)$"
      ],
      "text/plain": [
       "(1, \\vec{V_p} = [cos(\\angle{A_p})  0  sin(\\angle{A_p})])"
      ]
     },
     "metadata": {},
     "output_type": "display_data"
    },
    {
     "data": {
      "image/png": "[encoded data removed]",
      "text/latex": [
       "$\\displaystyle \\left( 2, \\  \\hat{V_p} = \\frac{\\vec{V_p}}{\\left|{\\vec{V_p}}\\right|}\\right)$"
      ],
      "text/plain": [
       "⎛                \\vec{V_p} ⎞\n",
       "⎜2, \\hat{V_p} = ───────────⎟\n",
       "⎝               │\\vec{V_p}│⎠"
      ]
     },
     "metadata": {},
     "output_type": "display_data"
    },
    {
     "data": {
      "text/latex": [
       "$\\displaystyle \\left( 3, \\  \\vec{V_r} = \\left[\\begin{matrix}0 & \\cos{\\left(\\angle{A_r} \\right)} & \\sin{\\left(\\angle{A_r} \\right)}\\end{matrix}\\right]\\right)$"
      ],
      "text/plain": [
       "(3, \\vec{V_r} = [0  cos(\\angle{A_r})  sin(\\angle{A_r})])"
      ]
     },
     "metadata": {},
     "output_type": "display_data"
    },
    {
     "data": {
      "image/png": "[encoded data removed]",
      "text/latex": [
       "$\\displaystyle \\left( 4, \\  \\hat{V_r} = \\frac{\\vec{V_r}}{\\left|{\\vec{V_r}}\\right|}\\right)$"
      ],
      "text/plain": [
       "⎛                \\vec{V_r} ⎞\n",
       "⎜4, \\hat{V_r} = ───────────⎟\n",
       "⎝               │\\vec{V_r}│⎠"
      ]
     },
     "metadata": {},
     "output_type": "display_data"
    },
    {
     "data": {
      "text/latex": [
       "$\\displaystyle \\left( 5, \\  \\vec{F_f} = \\left[\\begin{matrix}R_{sw} & 0 & 0\\end{matrix}\\right]\\right)$"
      ],
      "text/plain": [
       "(5, \\vec{F_f} = [R_{sw}  0  0])"
      ]
     },
     "metadata": {},
     "output_type": "display_data"
    },
    {
     "data": {
      "text/latex": [
       "$\\displaystyle \\left( 6, \\  \\vec{F_p} = \\left[\\begin{matrix}R_{sw} \\sin{\\left(\\angle{A_{cyl}} \\right)} & R_{sw} \\cos{\\left(\\angle{A_{cyl}} \\right)} & 0\\end{matrix}\\right]\\right)$"
      ],
      "text/plain": [
       "(6, \\vec{F_p} = [R_{sw}⋅sin(\\angle{A_{cyl}})  R_{sw}⋅cos(\\angle{A_{cyl}})  0])"
      ]
     },
     "metadata": {},
     "output_type": "display_data"
    },
    {
     "data": {
      "text/latex": [
       "$\\displaystyle \\left( 7, \\  \\vec{F_s} = \\left[\\begin{matrix}R_{sw} \\sin{\\left(2 \\angle{A_{cyl}} \\right)} & R_{sw} \\cos{\\left(2 \\angle{A_{cyl}} \\right)} & 0\\end{matrix}\\right]\\right)$"
      ],
      "text/plain": [
       "(7, \\vec{F_s} = [R_{sw}⋅sin(2⋅\\angle{A_{cyl}})  R_{sw}⋅cos(2⋅\\angle{A_{cyl}}) \n",
       " 0])"
      ]
     },
     "metadata": {},
     "output_type": "display_data"
    },
    {
     "data": {
      "text/latex": [
       "$\\displaystyle \\left( 8, \\  \\vec{V_{mast}} = \\left[\\begin{matrix}0 & 0 & R_{coll}\\end{matrix}\\right]\\right)$"
      ],
      "text/plain": [
       "(8, \\vec{V_{mast}} = [0  0  R_{coll}])"
      ]
     },
     "metadata": {},
     "output_type": "display_data"
    },
    {
     "data": {
      "image/png": "[encoded data removed]",
      "text/latex": [
       "$\\displaystyle \\left( 9, \\  \\vec{V_{disk}} = \\hat{V_p} \\times \\hat{V_r}\\right)$"
      ],
      "text/plain": [
       "(9, \\vec{V_{disk}} = (\\hat{V_p})×(\\hat{V_r}))"
      ]
     },
     "metadata": {},
     "output_type": "display_data"
    },
    {
     "data": {
      "text/plain": [
       "'Then, for every Cylinder'"
      ]
     },
     "metadata": {},
     "output_type": "display_data"
    },
    {
     "data": {
      "image/png": "[encoded data removed]",
      "text/latex": [
       "$\\displaystyle \\vec{C_N}$"
      ],
      "text/plain": [
       "\\vec{C_N}"
      ]
     },
     "metadata": {},
     "output_type": "display_data"
    },
    {
     "data": {
      "image/png": "[encoded data removed]",
      "text/latex": [
       "$\\displaystyle \\left( 10, \\  \\vec{F_N} = P_{fn} - P_{O}\\right)$"
      ],
      "text/plain": [
       "(10, \\vec{F_N} = P_{fn} - P_O)"
      ]
     },
     "metadata": {},
     "output_type": "display_data"
    },
    {
     "data": {
      "image/png": "[encoded data removed]",
      "text/latex": [
       "$\\displaystyle \\left( 11, \\  \\vec{V_{cN}} = \\vec{F_N} \\times \\vec{V_{mast}}\\right)$"
      ],
      "text/plain": [
       "(11, \\vec{V_{cN}} = (\\vec{F_N})×(\\vec{V_{mast}}))"
      ]
     },
     "metadata": {},
     "output_type": "display_data"
    },
    {
     "data": {
      "image/png": "[encoded data removed]",
      "text/latex": [
       "$\\displaystyle \\left( 12, \\  \\vec{V_{isectN}} = - \\vec{V_{cN}} \\times \\vec{V_{disk}}\\right)$"
      ],
      "text/plain": [
       "(12, \\vec{V_{isectN}} = -(\\vec{V_{cN}})×(\\vec{V_{disk}}))"
      ]
     },
     "metadata": {},
     "output_type": "display_data"
    },
    {
     "data": {
      "image/png": "[encoded data removed]",
      "text/latex": [
       "$\\displaystyle \\left( 13, \\  \\hat{V_{isectN}} = \\frac{\\vec{V_{isectN}}}{\\left|{\\vec{V_{isectN}}}\\right|}\\right)$"
      ],
      "text/plain": [
       "⎛                        \\vec{V_{isectN}} ⎞\n",
       "⎜13, \\hat{V_{isectN}} = ──────────────────⎟\n",
       "⎝                       │\\vec{V_{isectN}}│⎠"
      ]
     },
     "metadata": {},
     "output_type": "display_data"
    },
    {
     "data": {
      "image/png": "[encoded data removed]",
      "text/latex": [
       "$\\displaystyle \\left( 14, \\  \\vec{V_{aN}} = \\vec{V_{mast}} + R_{sw} \\hat{V_{isectN}}\\right)$"
      ],
      "text/plain": [
       "(14, \\vec{V_{aN}} = \\vec{V_{mast}} + R_{sw}⋅\\hat{V_{isectN}})"
      ]
     },
     "metadata": {},
     "output_type": "display_data"
    },
    {
     "data": {
      "image/png": "[encoded data removed]",
      "text/latex": [
       "$\\displaystyle \\left( 15, \\  \\vec{C_N} = \\vec{V_{aN}} - \\vec{F_N}\\right)$"
      ],
      "text/plain": [
       "(15, \\vec{C_N} = \\vec{V_{aN}} - \\vec{F_N})"
      ]
     },
     "metadata": {},
     "output_type": "display_data"
    }
   ],
   "source": [
    "\n",
    "e1 = Eq(Vp, sym.Matrix([sym.cos(Ap), 0, sym.sin(Ap)]).T)\n",
    "e2 = Eq(Vphat, Vp/abs(Vp))\n",
    "\n",
    "e3 = Eq(Vr, sym.Matrix([0, sym.cos(Ar), sym.sin(Ar)]).T)\n",
    "e4 = Eq(Vrhat, Vr/abs(Vr))\n",
    "\n",
    "e5 = Eq(Ff, sym.Matrix([Rsw, 0, 0]).T)\n",
    "e6 = Eq(Fp, sym.Matrix([Rsw*sym.sin(Acyl), Rsw*sym.cos(Acyl), 0]).T)\n",
    "e7 = Eq(Fs, sym.Matrix([Rsw*sym.sin(2*Acyl), Rsw*sym.cos(2*Acyl), 0]).T)\n",
    "\n",
    "e8 = Eq(Vmast, sym.Matrix([0, 0, Rcoll]).T)\n",
    "\n",
    "e9 = Eq(Vdisk, symvec.Cross(Vphat, Vrhat))\n",
    "\n",
    "# for each cylinder, Vcn normal of plane formed by foot and mast\n",
    "e9_5 = Eq(Fn, Pfn-P0)\n",
    "e10 = Eq(Vcn, symvec.Cross(Fn, Vmast))\n",
    "e11 = Eq(Visectn, symvec.Cross(Vdisk, Vcn))\n",
    "e12 = Eq(Visectnhat, Visectn/abs(Visectn))\n",
    "e13 = Eq(Van, Rsw*Visectnhat+Vmast)\n",
    "e14 = Eq(Cn, Van - Fn)\n",
    "\n",
    "eqs = [e1, e2, e3, e4, e5, e6, e7, e8, e9] \n",
    "eqs2 = [e9_5, e10, e11, e12, e13, e14]\n",
    "for i, e in enumerate(eqs):\n",
    "    #display(e)\n",
    "    display((sym.Symbol(f\"{i+1}\"),e))\n",
    "    \n",
    "display(\"Then, for every Cylinder\")\n",
    "display(Cn)\n",
    "\n",
    "for i, e in enumerate(eqs2):\n",
    "    #display(e)\n",
    "    display((sym.Symbol(f\"{i+10}\"),e))\n"
   ]
  },
  {
   "cell_type": "code",
   "execution_count": 5,
   "metadata": {},
   "outputs": [],
   "source": [
    "#for e in eqs:\n",
    "#    print(sym.latex(e))"
   ]
  },
  {
   "cell_type": "code",
   "execution_count": null,
   "metadata": {},
   "outputs": [],
   "source": []
  }
 ],
 "metadata": {
  "kernelspec": {
   "display_name": "Python 3",
   "language": "python",
   "name": "python3"
  },
  "language_info": {
   "codemirror_mode": {
    "name": "ipython",
    "version": 3
   },
   "file_extension": ".py",
   "mimetype": "text/x-python",
   "name": "python",
   "nbconvert_exporter": "python",
   "pygments_lexer": "ipython3",
   "version": "3.8.7"
  }
 },
 "nbformat": 4,
 "nbformat_minor": 4
}
